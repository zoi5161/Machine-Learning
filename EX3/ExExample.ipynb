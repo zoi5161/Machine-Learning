{
 "cells": [
  {
   "cell_type": "markdown",
   "metadata": {},
   "source": [
    "# Bài tập 3\n",
    "\n",
    "\n",
    "Trần Gia Bảo - 22127034\n",
    "\n",
    "---"
   ]
  },
  {
   "cell_type": "markdown",
   "metadata": {},
   "source": [
    "## 1. \n",
    "For this problem, we use the modified form of Hoeffding Inequality as:\n",
    "$$\n",
    "\\mathbb{P}\\left[\\left| E_{in}(g) - E_{out}(g) \\right| > \\epsilon \\right] \\leq 2M e^{-2\\epsilon^2 N}\n",
    "$$\n",
    "\n",
    "where\n",
    "- $ \\epsilon = 0.05 $\n",
    "- $ M = 1 $, which mean only one hypothesis was considered.\n",
    "- And we want the probability bound to be at most 0.03.\n",
    "\n",
    "To determine the least value of N, for which:\n",
    "   $$\n",
    "   2 \\cdot 1 \\cdot e^{-2 \\cdot (0.05)^2 \\cdot N} \\leq 0.03\n",
    "   $$\n",
    "   \n",
    "Thus:\n",
    "   $$\n",
    "   2e^{-2 \\cdot 0.0025 \\cdot N} \\leq 0.03\n",
    "   $$\n",
    "   $$\n",
    "   2e^{-0.005N} \\leq 0.03\n",
    "   $$\n",
    "   $$\n",
    "   e^{-0.005N} \\leq 0.015\n",
    "   $$\n",
    "\n",
    "Taking the logarithm of both sides:\n",
    "   $$\n",
    "   -0.005N \\leq \\ln(0.015) \\approx -4.1997\n",
    "   $$\n",
    "   $$\n",
    "   N \\geq \\frac{4.1997}{0.005} = 839.94\n",
    "   $$\n",
    "\n",
    "Because N must be an integer, then round up to the next whole number. Minimum N possible is about 840 and closest option is **[b] 1000**."
   ]
  },
  {
   "cell_type": "markdown",
   "metadata": {},
   "source": [
    "## 2.\n",
    "For this problem, we apply the modified form of Hoeffding Inequality as:\n",
    "$$\n",
    "\\mathbb{P}\\left[\\left| E_{in}(g) - E_{out}(g) \\right| > \\epsilon \\right] \\leq 2M e^{-2\\epsilon^2 N}\n",
    "$$\n",
    "where:\n",
    "- $ \\epsilon = 0.05 $\n",
    "- $ M = 10 $, which mean only ten hypothesis was considered.\n",
    "- And we want the probability bound to be at most 0.03.\n",
    "\n",
    "To determine the least value of N, for which:\n",
    "   $$\n",
    "   2 \\cdot 10 \\cdot e^{-2 \\cdot (0.05)^2 \\cdot N} \\leq 0.03\n",
    "   $$\n",
    "Thus:\n",
    "   $$\n",
    "   20e^{-2 \\cdot 0.0025 \\cdot N} \\leq 0.03\n",
    "   $$\n",
    "   $$\n",
    "   20e^{-0.005N} \\leq 0.03\n",
    "   $$\n",
    "   $$\n",
    "   e^{-0.005N} \\leq 0.0015\n",
    "   $$\n",
    "\n",
    "Taking the logarithm of both sides:\n",
    "   $$\n",
    "   -0.005N \\leq \\ln(0.0015) \\approx -6.5023\n",
    "   $$\n",
    "   $$\n",
    "   N \\geq \\frac{6.5023}{0.005} = 1300.46\n",
    "   $$\n",
    "\n",
    "Because N must be an integer, then round up to the next whole number. Minimum N possible is about 1301 and closest option is **[c] 1500**.\n"
   ]
  },
  {
   "cell_type": "markdown",
   "metadata": {},
   "source": [
    "## 3.\n",
    "For this problem, we use the modified form of Hoeffding Inequality as:\n",
    "$$\n",
    "\\mathbb{P}\\left[\\left| E_{in}(g) - E_{out}(g) \\right| > \\epsilon \\right] \\leq 2M e^{-2\\epsilon^2 N}\n",
    "$$\n",
    "\n",
    "where:\n",
    "- $ \\epsilon = 0.05 $\n",
    "- $ M = 100 $, meaning one hundred hypotheses were considered.\n",
    "- And we want the probability bound to be at most 0.03.\n",
    "\n",
    "To determine the least value of N, for which:\n",
    "$$\n",
    "2 \\cdot 100 \\cdot e^{-2 \\cdot (0.05)^2 \\cdot N} \\leq 0.03\n",
    "$$\n",
    "\n",
    "Thus:\n",
    "   $$\n",
    "   200e^{-2 \\cdot 0.0025 \\cdot N} \\leq 0.03\n",
    "   $$\n",
    "   $$\n",
    "   200e^{-0.005N} \\leq 0.03\n",
    "   $$\n",
    "   $$\n",
    "   e^{-0.005N} \\leq 0.00015\n",
    "   $$\n",
    "\n",
    "Taking the logarithm of both sides:\n",
    "   $$\n",
    "   -0.005N \\leq \\ln(0.00015) \\approx -8.8049\n",
    "   $$\n",
    "   $$\n",
    "   N \\geq \\frac{8.8049}{0.005} = 1760.98\n",
    "   $$\n",
    "\n",
    "Because N must be an integer, then round up to the next whole number. Minimum N possible is about 1761 and closest option is **[d] 2000**.\n"
   ]
  },
  {
   "cell_type": "markdown",
   "metadata": {},
   "source": [
    "## 4.\n",
    "In two dimensions, the Perceptron model cannot separate all of the possible configurations of four non-collinear points. However, by moving two of them out of the plane into a third dimension, they become separable. This implies that the breakpoint for a 3D Perceptron model in $ \\mathbb{R}^3 $ is at least five.\n",
    "\n",
    "To confirm that five is really the break point, let us see whether a set of five points can be shattered in three dimensions. That is, no subset of four points will be coplanar since any such coplanarity immediately restricts the separability :.\n",
    "\n",
    "That is more or less the case, out of the set of five points, four points should be taken to create a tetrahedron with the remaining fifth point outside. This necessarily means for whatever configuration at least one point has to lie outside the structure of a tetrahedron.\n",
    "\n",
    "Now, let the shadow effect be considered: the point that remains outside the tetrahedron always falls within the shadow of one of the faces of the tetrahedron. Since these shadow partition the space outside the tetrahedron, the external point will be forced to stay confined within one shadow. If we denote such a face by $ T $ and its shadowed points by $ S_T $, then the external point is going to be forced into one of these shadowed spaces.\n",
    "\n",
    "To illustrate further, let us color one point-for example, $ x_2 $ -red, and let all the other points, such as $ x_1 $, $ x_3 $, and $ x_5 $, be colored blue. Every plane that separates $ x_2 $ from this set must leave all points in $ S_T $ in the same halfspace as the blue points. This constraint forces the remaining point to share the color of those within $ S_T $, which would imply the set cannot be completely shattered.\n",
    "\n",
    "Thus, our break point for the 3D Perceptron in $ \\mathbb{R}^3 $ really is five. Hence, the answer is **[b] 5**."
   ]
  },
  {
   "cell_type": "markdown",
   "metadata": {},
   "source": [
    "## 5.\n",
    "Generalization theory says that for any learning model that has a break point, there must be a polynomial in N bounding its growth function. Having a break point for the growth function simply means there should be a maximum value of $ N $ beyond which the growth function does not reach its upper bound $ 2^N $. Valid growth functions should therefore be either equal to $ 2^N $ for all values of $ N $, or\n",
    "Let $f_1, f_2, \\ldots, f_m$ be polynomials in $N$ that are always less than or equal to $2^N$ for all positive integers $N$. More precisely, we want the assumption that for any function $f$, $f(N) \\leq 2^N$ holds good always.\n",
    "We must try each of the given growth functions to satisfy these criteria and rule out those which fail.\n",
    "\n",
    "Analysis of Each Function\n",
    "\n",
    "1. **Function (i):** $ f_i(N) = N + 1 $ is a first-degree polynomial. It is always less than $ 2^N $, though we shall not prove it here; the intuitive idea is clear that for $ N \\geq 2 $, it remains strictly smaller. Thus, $ f_i $ is a valid growth function.\n",
    "\n",
    "2. **Function (ii):** This expands to the function, $ f_{ii}(N)=\\frac{N^2}{2} + \\frac{N}{2} + 1 $ for which, for small values of $ N $, $ f_{ii} = 2 $, $ f_{ii} = 4 $, $ f_{ii} = 7 $ and for $ N>3 $ this quadratic is always beneath the exponential $ 2^N $ and thus $ f_{ii} $ is also a valid growth function.\n",
    "\n",
    "3. **Function (iii):** Using the binomial theorem, we have:\n",
    "    $\n",
    "    2^{\\lfloor \\sqrt{N} \\rfloor} = \\sum_{k=0}^{\\lfloor \\sqrt{N} \\rfloor} \\binom{\\lfloor \\sqrt{N} \\rfloor}{k}\n",
    "    $\n",
    "    Because $ f_{iii}(N) $ is a summation of similar terms but with larger coefficients for every $ k > 0 $, we understand that $ \\binom{a}{k} < \\binom{b}{k} $ given that $ a < b $. So:\n",
    "    $$\n",
    "    f_{iii}(N) = \\sum_{k=1}^{\\lfloor \\sqrt{N} \\rfloor} {N\\choose k} \\geq 2^{\\lfloor \\sqrt{N} \\rfloor} - 1\n",
    "    $$ \n",
    "    This function, $f(N) = 2^{\\lfloor \\sqrt{N} \\rfloor} - 1 < 2^N$, is a non-polynomial function of $N$ (proof omitted here) and is smaller than $2^N$ for all $N \\geq 1$. However, it doesn't qualify as a valid growth function.\n",
    "\n",
    "4. **Function (iv):** This too does not satisfy the condition as it is non-polynomial in $ N $, though is less than $ 2^N $ since for $ N \\geq 2, \\lfloor N/2 \\rfloor < N $.\n",
    "\n",
    "5. **Function (v):** This follows trivially since it is equal to $ 2^N $.\n",
    "\n",
    "Only **i, ii, and v** satisfy the conditions for growth functions so that the correct answer is **[b]**."
   ]
  },
  {
   "cell_type": "markdown",
   "metadata": {},
   "source": [
    "## 6.\n",
    "The \"2-intervals\" hypothesis can distinguish between patterns only as long as changes in between positive and negative labels among consecutive points in the sample do not exceed three flips. This is attainable with just 4 points, but a fifth point allows the construction of a pattern for which more than three flips between intervals are necessary, and that's beyond the powers of the \"2-intervals\" setup.\n",
    "\n",
    "Thus, when we add the fifth point, the \"2-intervals\" model cannot distinguish all configurations. This fact shows that the minimum break point of the \"2-intervals\" model is **5**, so we choose **[c]**."
   ]
  },
  {
   "cell_type": "markdown",
   "metadata": {},
   "source": [
    "## 7\n",
    "The growth function for the \"2-intervals\" hypothesis set can be found by breaking into two kinds of configurations, viz.: Overlapping intervals Non-overlapping intervals.\n",
    "\n",
    "Case 1: Intervals with Overlap\n",
    "When the two intervals overlap, they effectively become one continuous interval. This reduces the problem to finding how many different patterns a single interval can generate on a collection of $ N $ points. There, the number of possible patterns is $ \\binom{N+1}{2} $.\n",
    "\n",
    "Case 2: Non-Overlapping Intervals\n",
    "In this case, the two intervals are well separated, that is, do not intersect. For $ N+1 $ points, any four points can be picked to give one pair of distinct, disjoint intervals covering different parts of the sample space. This configuration generates an additional $ \\binom{N+1}{4} $ unique patterns.\n",
    "\n",
    "Putting these two cases together, the following is the total growth function for the \"2-intervals\" hypothesis set:\n",
    "\n",
    "$$\n",
    "m_{\\mathcal{H}}(N) = \\binom{N+1}{2} + \\binom{N+1}{4} + 1\n",
    "$$\n",
    "\n",
    "The $ +1 $ term accounts for the degenerate case where none of the intervals cover any points, so all the points get classified as $ -1 $. The correct answer is therefore **[c]**."
   ]
  },
  {
   "cell_type": "markdown",
   "metadata": {},
   "source": [
    "## 8.\n",
    "In the \"M-intervals\" model, $ h(x) = +1 $ if $ x $ lies in any of the $ M $ intervals and $ -1 $ otherwise. The break point is the least number of points such that no assignment of classifications can be shattered by the hypothesis set.\n",
    "\n",
    "With $ M $ intervals we are able to create at most $2M$ transitions-flips between $+1$ and $-1$. For anything more than that we need $2M+1$ points. For anything more than those points will be of no help in the realization of all the configuration.\n",
    "\n",
    "The small breakpoint is **[d] $ 2M + 1 $**."
   ]
  },
  {
   "cell_type": "markdown",
   "metadata": {},
   "source": [
    "## 9.\n",
    "To approach this problem, let us first realize that any set of more than 3 points which can be shattered by a triangle has to be arranged in such a way that all of the points are on the convex hull. If not, it is easy to construct dichotomies which a triangle can't separate by labeling the points on the convex hull as $ +1 $ and the remaining as $ -1 $.\n",
    "\n",
    "With that in mind, the question of separating points along a convex hull using a triangle is a close cousin of the 3-interval model, except with one interesting twist: the points wrap around, so that the last point connects back to the first. We can break configurations containing up to 7 points in this way, as shown in Figure 5(a).\n",
    "\n",
    "Try to Break 8 Balls:\n",
    "\n",
    "Suppose that we try to draw an 8th point between any two neighbors of the red points, say between the points $ x_1 $ and $ x_2 $. Because $ x_1 $ and $ x_2 $ are red, then $ x_3 $ must also be red, or must be outside the convex hull, so as not to be shattered. In either case, no 8-point configuration can be shattered by a triangle.\n",
    "\n",
    "Proof Outline:\n",
    "\n",
    "Suppose we try to make $ x_3 $ blue while keeping $ x_1 $ and $ x_2 $ red. For that $ x_3 $ would need to be outside the triangle that decides the classification. But for the convex hull to stay intact, $ x_3 $ would need to be in a small triangle only comprised of red points as illustrated in Figure 5(b).\n",
    "To keep $ x_3 $ blue, the decision triangle would have to intersect the red triangle so that we could keep $ x_3 $ blue while holding the other points fixed. This configuration fails because the decision triangle would compress to include $ x_5 $ and $ x_6 $ as red as in Figure 5(c) or place $ x_3 $ outside the hull. Hence, the maximum number of points which this triangle hypothesis set can shatter is 7 giving us the answer **[d]**."
   ]
  },
  {
   "cell_type": "markdown",
   "metadata": {},
   "source": [
    "## 10.\n",
    "The concentric circles in this model are similar to using a \"1-interval\" approach, where the boundaries are defined by $ a $ and $ b $. Although the circles are two-dimensional, the fact that they expand uniformly in all directions limits the degrees of freedom, making the setup functionally similar to a one-dimensional interval.\n",
    "\n",
    "Thus, the number of possible dichotomies that can be generated by this configuration is given by:\n",
    "\n",
    "$$\n",
    "m_{\\mathcal{H}}(N) = \\binom{N+1}{2} + 1\n",
    "$$\n",
    "\n",
    "This leads us to the answer **[b]**."
   ]
  },
  {
   "cell_type": "markdown",
   "metadata": {},
   "source": [
    "## References:\n",
    "- https://rstudio-pubs-static.s3.amazonaws.com/376525_cb5ef7e87d6549af997985b5871fd822.html#exercise-7\n",
    "- https://www.youtube.com/watch?v=e5nwJKUc3bA"
   ]
  }
 ],
 "metadata": {
  "kernelspec": {
   "display_name": "Python 3 (ipykernel)",
   "language": "python",
   "name": "python3"
  },
  "language_info": {
   "codemirror_mode": {
    "name": "ipython",
    "version": 3
   },
   "file_extension": ".py",
   "mimetype": "text/x-python",
   "name": "python",
   "nbconvert_exporter": "python",
   "pygments_lexer": "ipython3",
   "version": "3.9.13"
  }
 },
 "nbformat": 4,
 "nbformat_minor": 1
}
